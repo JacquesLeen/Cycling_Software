{
 "cells": [
  {
   "cell_type": "code",
   "execution_count": 79,
   "metadata": {},
   "outputs": [],
   "source": [
    "import requests\n",
    "from urllib.request import urlopen, Request"
   ]
  },
  {
   "cell_type": "code",
   "execution_count": 114,
   "metadata": {},
   "outputs": [],
   "source": [
    "def get_gpx_track(track_number=[]):\n",
    "    \"\"\"Send request to la flamme rouge website to a specific gpx track\n",
    "    \n",
    "    Inputs:\n",
    "        track_number: list of track numbers to parse\n",
    "        \n",
    "    Returns:\n",
    "        parsed object\n",
    "    \"\"\"\n",
    "    url = 'http://la-flamme-rouge.eu/maps/viewtrack/gpx/'+str(track_number)\n",
    "    headers={'User-Agent':'Mozilla/5'}\n",
    "    r = requests.get(url, allow_redirects=True,headers=headers)\n",
    "    soup = BeautifulSoup(r.text,'html.parser')\n",
    "    return soup\n",
    "\n",
    "def get_elevation(track_html):\n",
    "    # get elevation from html\n",
    "    elev = [int(elev.text) for elev in soup.find_all('ele')]\n",
    "    elev_change = sum([elev[i+1]-elev[i] for i in range(len(elev)-1) if elev[i+1]>elev[i]])\n",
    "    return elev_change"
   ]
  },
  {
   "cell_type": "code",
   "execution_count": 118,
   "metadata": {},
   "outputs": [],
   "source": [
    "track_html = get_gpx_track(track_number=[34572])"
   ]
  },
  {
   "cell_type": "code",
   "execution_count": 119,
   "metadata": {},
   "outputs": [],
   "source": [
    "elev_change= get_elevation(track_html)"
   ]
  }
 ],
 "metadata": {
  "kernelspec": {
   "display_name": "Python 3",
   "language": "python",
   "name": "python3"
  },
  "language_info": {
   "codemirror_mode": {
    "name": "ipython",
    "version": 3
   },
   "file_extension": ".py",
   "mimetype": "text/x-python",
   "name": "python",
   "nbconvert_exporter": "python",
   "pygments_lexer": "ipython3",
   "version": "3.7.6"
  }
 },
 "nbformat": 4,
 "nbformat_minor": 4
}

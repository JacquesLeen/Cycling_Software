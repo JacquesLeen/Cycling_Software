{
 "cells": [
  {
   "cell_type": "code",
   "execution_count": 1,
   "metadata": {},
   "outputs": [],
   "source": [
    "import requests\n",
    "import pandas as pd\n",
    "from bs4 import BeautifulSoup\n",
    "import time\n",
    "import datetime\n",
    "import numpy as np"
   ]
  },
  {
   "cell_type": "code",
   "execution_count": 19,
   "metadata": {},
   "outputs": [
    {
     "output_type": "stream",
     "name": "stdout",
     "text": [
      "loop towards month 03 2021 ended\nelapsed time: 0.49338815212249754 minutes\n"
     ]
    }
   ],
   "source": [
    "start = time.time()\n",
    "\n",
    "years = [2021]##list(np.arange(2000,2021,1))\n",
    "cals = [1] # 1 for WT, 2 for UCI, etc.\n",
    "months = ['03']##['01','02','03','04','05','06','07','08','09','10','11','12']\n",
    "results_dict = {}\n",
    "stages_dict = {}\n",
    "\n",
    "for year in years:\n",
    "    for month in months:\n",
    "        for cal in cals:\n",
    "            url = 'https://firstcycling.com/race.php?y='+str(year)+'&t='+str(cal)+'&m='+str(month)\n",
    "            r = requests.get(url)\n",
    "            soup = BeautifulSoup(r.text,'html.parser')\n",
    "\n",
    "            if year == datetime.datetime.today().year and month == datetime.datetime.today().month: \n",
    "                try:\n",
    "                    tab = soup.find_all('table', class_='sortTabell tablesorter')[1]\n",
    "                except:\n",
    "                    continue\n",
    "            else:\n",
    "                try:\n",
    "                    tab = soup.find_all('table', class_='sortTabell tablesorter')[0]\n",
    "                except:\n",
    "                    continue\n",
    "\n",
    "            refs = [i['href'] for i in tab.find_all('a', href=True)]\n",
    "            races_raw = [x for x in refs if 'race' in x]\n",
    "            races = [z for z in races_raw if 'k' not in z]\n",
    "            urls = ['https://firstcycling.com/'+y for y in races]\n",
    "            for race in urls:\n",
    "                r_race = requests.get(race)\n",
    "                soup_race = BeautifulSoup(r_race.text,'html.parser')\n",
    "                race_name = soup_race.find('h1').text\n",
    "                rows = soup_race.find_all('tbody')[0].find_all('tr')\n",
    "                result = []\n",
    "                for tr in rows:\n",
    "                    td = tr.find_all('td')\n",
    "                    row = [tr.text.strip() for tr in td if tr.text.strip()]\n",
    "                    if row:\n",
    "                        result.append(row)\n",
    "\n",
    "                stage_soup = BeautifulSoup(requests.get(race+'&k=2').text,'html.parser') \n",
    "                try:\n",
    "                    if stage_soup.find('h1', class_='delinfo').text == 'Stages':\n",
    "                        stg_ref = [i['href'] for i in stage_soup.find_all('table', class_=\"tablesorter\")[1].find_all('a')]\n",
    "                        stages = [x for x in stg_ref if 'race' in x]\n",
    "                        stages_url = ['https://firstcycling.com/'+y for y in stages]\n",
    "                        for stage in stages_url:\n",
    "                            r_stage = requests.get(stage)\n",
    "                            soup_stage = BeautifulSoup(r_stage.text,'html.parser')\n",
    "                            for i in soup_stage.find_all('select')[1].find_all('option'):\n",
    "                                if i.has_attr('selected'):\n",
    "                                    stage_name = race_name+' stage '+i.text\n",
    "                            rows_stage = soup_stage.find_all('tbody')[0].find_all('tr')\n",
    "                            result_stage = []\n",
    "                            for tr in rows_stage:\n",
    "                                td = tr.find_all('td')\n",
    "                                row = [tr.text.strip() for tr in td if tr.text.strip()]\n",
    "                                if row:\n",
    "                                    result_stage.append(row)\n",
    "                            stages_dict[stage_name] = pd.DataFrame(result_stage,\n",
    "                                                                   columns=['Position', 'Rider', 'Born', 'Team', 'Total time', 'FC points'])\n",
    "                except:\n",
    "                    continue\n",
    "\n",
    "\n",
    "                try:        \n",
    "                    results_dict[race_name] = pd.DataFrame(result, \n",
    "                                                           columns=['Position', 'Rider', 'Born', 'Team', 'Total time', 'FC points'])\n",
    "                except ValueError:\n",
    "                    continue\n",
    "\n",
    "        print('loop towards month', month, year, 'ended')\n",
    "\n",
    "end = time.time()\n",
    "print('elapsed time: '+str((end-start)/60)+' minutes')"
   ]
  },
  {
   "cell_type": "code",
   "execution_count": 20,
   "metadata": {},
   "outputs": [],
   "source": [
    "full_dicts = {**results_dict, **stages_dict}"
   ]
  },
  {
   "cell_type": "code",
   "execution_count": 21,
   "metadata": {},
   "outputs": [],
   "source": [
    "import pickle\n",
    "\n",
    "with open('results.p', 'wb') as fp:\n",
    "    pickle.dump(full_dicts, fp, protocol=pickle.HIGHEST_PROTOCOL)"
   ]
  },
  {
   "cell_type": "code",
   "execution_count": 22,
   "metadata": {},
   "outputs": [
    {
     "output_type": "execute_result",
     "data": {
      "text/plain": [
       "    Position               Rider  Born                    Team Total time  \\\n",
       "0         01      Esteban Chaves  1990       Team BikeExchange   04:29:47   \n",
       "1         02       Michael Woods  1986  Israel Start-Up Nation       + 07   \n",
       "2         03      Geraint Thomas  1986        INEOS Grenadiers       + 07   \n",
       "3         04          Adam Yates  1992        INEOS Grenadiers       + 07   \n",
       "4         05           Sepp Kuss  1994             Jumbo-Visma       + 07   \n",
       "..       ...                 ...   ...                     ...        ...   \n",
       "168      DNF      Nacer Bouhanni  1990            Arkéa-Samsic       None   \n",
       "169      DNF        Jakob Egholm  1998          Trek-Segafredo       None   \n",
       "170      DNF  Frederik Rodenberg  1998  Uno-X Pro Cycling Team       None   \n",
       "171      DNF    Anders Skaarseth  1995  Uno-X Pro Cycling Team       None   \n",
       "172      DNF   Wout Van Elzakker  1998               Vini Zabú       None   \n",
       "\n",
       "    FC points                                               race  \n",
       "0          50  Volta Catalunya - 2021 stage 04 : Ripoll - Por...  \n",
       "1          20  Volta Catalunya - 2021 stage 04 : Ripoll - Por...  \n",
       "2           8  Volta Catalunya - 2021 stage 04 : Ripoll - Por...  \n",
       "3        None  Volta Catalunya - 2021 stage 04 : Ripoll - Por...  \n",
       "4        None  Volta Catalunya - 2021 stage 04 : Ripoll - Por...  \n",
       "..        ...                                                ...  \n",
       "168      None            Oxyclean Classic Brugge-De Panne - 2021  \n",
       "169      None            Oxyclean Classic Brugge-De Panne - 2021  \n",
       "170      None            Oxyclean Classic Brugge-De Panne - 2021  \n",
       "171      None            Oxyclean Classic Brugge-De Panne - 2021  \n",
       "172      None            Oxyclean Classic Brugge-De Panne - 2021  \n",
       "\n",
       "[830 rows x 7 columns]"
      ],
      "text/html": "<div>\n<style scoped>\n    .dataframe tbody tr th:only-of-type {\n        vertical-align: middle;\n    }\n\n    .dataframe tbody tr th {\n        vertical-align: top;\n    }\n\n    .dataframe thead th {\n        text-align: right;\n    }\n</style>\n<table border=\"1\" class=\"dataframe\">\n  <thead>\n    <tr style=\"text-align: right;\">\n      <th></th>\n      <th>Position</th>\n      <th>Rider</th>\n      <th>Born</th>\n      <th>Team</th>\n      <th>Total time</th>\n      <th>FC points</th>\n      <th>race</th>\n    </tr>\n  </thead>\n  <tbody>\n    <tr>\n      <th>0</th>\n      <td>01</td>\n      <td>Esteban Chaves</td>\n      <td>1990</td>\n      <td>Team BikeExchange</td>\n      <td>04:29:47</td>\n      <td>50</td>\n      <td>Volta Catalunya - 2021 stage 04 : Ripoll - Por...</td>\n    </tr>\n    <tr>\n      <th>1</th>\n      <td>02</td>\n      <td>Michael Woods</td>\n      <td>1986</td>\n      <td>Israel Start-Up Nation</td>\n      <td>+ 07</td>\n      <td>20</td>\n      <td>Volta Catalunya - 2021 stage 04 : Ripoll - Por...</td>\n    </tr>\n    <tr>\n      <th>2</th>\n      <td>03</td>\n      <td>Geraint Thomas</td>\n      <td>1986</td>\n      <td>INEOS Grenadiers</td>\n      <td>+ 07</td>\n      <td>8</td>\n      <td>Volta Catalunya - 2021 stage 04 : Ripoll - Por...</td>\n    </tr>\n    <tr>\n      <th>3</th>\n      <td>04</td>\n      <td>Adam Yates</td>\n      <td>1992</td>\n      <td>INEOS Grenadiers</td>\n      <td>+ 07</td>\n      <td>None</td>\n      <td>Volta Catalunya - 2021 stage 04 : Ripoll - Por...</td>\n    </tr>\n    <tr>\n      <th>4</th>\n      <td>05</td>\n      <td>Sepp Kuss</td>\n      <td>1994</td>\n      <td>Jumbo-Visma</td>\n      <td>+ 07</td>\n      <td>None</td>\n      <td>Volta Catalunya - 2021 stage 04 : Ripoll - Por...</td>\n    </tr>\n    <tr>\n      <th>...</th>\n      <td>...</td>\n      <td>...</td>\n      <td>...</td>\n      <td>...</td>\n      <td>...</td>\n      <td>...</td>\n      <td>...</td>\n    </tr>\n    <tr>\n      <th>168</th>\n      <td>DNF</td>\n      <td>Nacer Bouhanni</td>\n      <td>1990</td>\n      <td>Arkéa-Samsic</td>\n      <td>None</td>\n      <td>None</td>\n      <td>Oxyclean Classic Brugge-De Panne - 2021</td>\n    </tr>\n    <tr>\n      <th>169</th>\n      <td>DNF</td>\n      <td>Jakob Egholm</td>\n      <td>1998</td>\n      <td>Trek-Segafredo</td>\n      <td>None</td>\n      <td>None</td>\n      <td>Oxyclean Classic Brugge-De Panne - 2021</td>\n    </tr>\n    <tr>\n      <th>170</th>\n      <td>DNF</td>\n      <td>Frederik Rodenberg</td>\n      <td>1998</td>\n      <td>Uno-X Pro Cycling Team</td>\n      <td>None</td>\n      <td>None</td>\n      <td>Oxyclean Classic Brugge-De Panne - 2021</td>\n    </tr>\n    <tr>\n      <th>171</th>\n      <td>DNF</td>\n      <td>Anders Skaarseth</td>\n      <td>1995</td>\n      <td>Uno-X Pro Cycling Team</td>\n      <td>None</td>\n      <td>None</td>\n      <td>Oxyclean Classic Brugge-De Panne - 2021</td>\n    </tr>\n    <tr>\n      <th>172</th>\n      <td>DNF</td>\n      <td>Wout Van Elzakker</td>\n      <td>1998</td>\n      <td>Vini Zabú</td>\n      <td>None</td>\n      <td>None</td>\n      <td>Oxyclean Classic Brugge-De Panne - 2021</td>\n    </tr>\n  </tbody>\n</table>\n<p>830 rows × 7 columns</p>\n</div>"
     },
     "metadata": {},
     "execution_count": 22
    }
   ],
   "source": [
    "final_df = pd.DataFrame()\n",
    "for key, value in full_dicts.items():\n",
    "    df = value\n",
    "    df.loc[:,'race'] = key\n",
    "    final_df = pd.concat([df, final_df], 0)\n",
    "final_df"
   ]
  },
  {
   "cell_type": "code",
   "execution_count": 23,
   "metadata": {},
   "outputs": [],
   "source": [
    "final_df.to_csv('results032021.csv')"
   ]
  },
  {
   "cell_type": "code",
   "execution_count": 24,
   "metadata": {},
   "outputs": [
    {
     "output_type": "execute_result",
     "data": {
      "text/plain": [
       "Empty DataFrame\n",
       "Columns: [Position, Rider, Born, Team, Total time, FC points, race]\n",
       "Index: []"
      ],
      "text/html": "<div>\n<style scoped>\n    .dataframe tbody tr th:only-of-type {\n        vertical-align: middle;\n    }\n\n    .dataframe tbody tr th {\n        vertical-align: top;\n    }\n\n    .dataframe thead th {\n        text-align: right;\n    }\n</style>\n<table border=\"1\" class=\"dataframe\">\n  <thead>\n    <tr style=\"text-align: right;\">\n      <th></th>\n      <th>Position</th>\n      <th>Rider</th>\n      <th>Born</th>\n      <th>Team</th>\n      <th>Total time</th>\n      <th>FC points</th>\n      <th>race</th>\n    </tr>\n  </thead>\n  <tbody>\n  </tbody>\n</table>\n</div>"
     },
     "metadata": {},
     "execution_count": 24
    }
   ],
   "source": [
    "final_df[final_df['race'].isin(['2021'])]"
   ]
  },
  {
   "cell_type": "code",
   "execution_count": 25,
   "metadata": {},
   "outputs": [
    {
     "output_type": "execute_result",
     "data": {
      "text/plain": [
       "Empty DataFrame\n",
       "Columns: [Position, Rider, Born, Team, Total time, FC points, race]\n",
       "Index: []"
      ],
      "text/html": "<div>\n<style scoped>\n    .dataframe tbody tr th:only-of-type {\n        vertical-align: middle;\n    }\n\n    .dataframe tbody tr th {\n        vertical-align: top;\n    }\n\n    .dataframe thead th {\n        text-align: right;\n    }\n</style>\n<table border=\"1\" class=\"dataframe\">\n  <thead>\n    <tr style=\"text-align: right;\">\n      <th></th>\n      <th>Position</th>\n      <th>Rider</th>\n      <th>Born</th>\n      <th>Team</th>\n      <th>Total time</th>\n      <th>FC points</th>\n      <th>race</th>\n    </tr>\n  </thead>\n  <tbody>\n  </tbody>\n</table>\n</div>"
     },
     "metadata": {},
     "execution_count": 25
    }
   ],
   "source": [
    "final_df[final_df['race']=='Coppi e Bartali - 2021 stage 01 : Gatteo - Gatteo']"
   ]
  },
  {
   "source": [
    "#Conversione secondi\n",
    "\n",
    "La cella che segue converte in secondi i tempi delle gare, calcola i distacchi dal primo e i tempi in percentuale per tutto il df di risultati. Va ancora resa come funzione."
   ],
   "cell_type": "markdown",
   "metadata": {}
  },
  {
   "cell_type": "code",
   "execution_count": 52,
   "metadata": {},
   "outputs": [
    {
     "output_type": "stream",
     "name": "stderr",
     "text": [
      "<ipython-input-52-0d50c37d37ac>:20: SettingWithCopyWarning: \nA value is trying to be set on a copy of a slice from a DataFrame.\nTry using .loc[row_indexer,col_indexer] = value instead\n\nSee the caveats in the documentation: https://pandas.pydata.org/pandas-docs/stable/user_guide/indexing.html#returning-a-view-versus-a-copy\n  df_temp['Time seconds'] = temp_list\n<ipython-input-52-0d50c37d37ac>:22: SettingWithCopyWarning: \nA value is trying to be set on a copy of a slice from a DataFrame.\nTry using .loc[row_indexer,col_indexer] = value instead\n\nSee the caveats in the documentation: https://pandas.pydata.org/pandas-docs/stable/user_guide/indexing.html#returning-a-view-versus-a-copy\n  df_temp['Perc of time'] = \"\"  ## creates empty column for percentage of time\n/Users/giacomolini/Library/Python/3.9/lib/python/site-packages/IPython/core/interactiveshell.py:3437: SettingWithCopyWarning: \nA value is trying to be set on a copy of a slice from a DataFrame\n\nSee the caveats in the documentation: https://pandas.pydata.org/pandas-docs/stable/user_guide/indexing.html#returning-a-view-versus-a-copy\n  exec(code_obj, self.user_global_ns, self.user_ns)\n"
     ]
    }
   ],
   "source": [
    "race_list = final_df['race'].unique()                   ## generates list of single races given the df\n",
    "df = pd.DataFrame(columns=['Position', 'Rider', 'Born', 'Team', 'Total time', 'FC points', 'race', 'Time seconds', 'Perc of time']) ## empty df to copy results\n",
    "\n",
    "for race in race_list:\n",
    "    df_temp = final_df.loc[final_df['race'] == race]\n",
    "    temp = df_temp['Total time']\n",
    "    temp_list = []\n",
    "    for x in temp:\n",
    "        if x is not None:\n",
    "            y = x.split(':')                            ## split it from HH:MM:SS to ['HH', 'MM', 'SS'] (it is a list of strings)\n",
    "            for i in range(0, len(y)):\n",
    "                y[i]=int(y[i].replace(\"+ \", \"\"))        ## deletes '+ ' from the time gaps\n",
    "            temp_int = 0\n",
    "            for j in range(len(y)-1, -1, -1):\n",
    "                temp_int += y[j]*(60 **(len(y)-(j+1)))  ## converts timegaps into seconds \n",
    "            temp_list.append(temp_int)                  ## appends them to list\n",
    "\n",
    "    for k in range(len(temp_list), len(temp)):\n",
    "        temp_list.append('None')                        ## appends 'None' to list before merging into DF\n",
    "    df_temp['Time seconds'] = temp_list\n",
    "\n",
    "    df_temp['Perc of time'] = \"\"  ## creates empty column for percentage of time\n",
    "\n",
    "    for index in range(1, len(df_temp['Time seconds'])):      ## sums timegaps and total time of the winner\n",
    "        if df_temp['Time seconds'][index] != 'None':\n",
    "            df_temp['Time seconds'][index] +=  int(df_temp['Time seconds'][0])\n",
    "\n",
    "    for index  in range(len(df_temp['Time seconds'])) :\n",
    "        if df_temp['Time seconds'][index] != 'None':\n",
    "            df_temp['Perc of time'][index] = int(df_temp['Time seconds'][index]) / int(df_temp['Time seconds'][0])\n",
    "        else:\n",
    "            df_temp['Perc of time'][index] = 'None'\n",
    "    df = pd.concat([df,df_temp])\n",
    "\n",
    "final_df = df                                         \n",
    "del df                                                  ## deletes df\n"
   ]
  },
  {
   "cell_type": "code",
   "execution_count": null,
   "metadata": {},
   "outputs": [],
   "source": []
  },
  {
   "cell_type": "code",
   "execution_count": null,
   "metadata": {},
   "outputs": [],
   "source": []
  },
  {
   "cell_type": "code",
   "execution_count": null,
   "metadata": {},
   "outputs": [],
   "source": []
  },
  {
   "cell_type": "code",
   "execution_count": 9,
   "metadata": {},
   "outputs": [
    {
     "name": "stdout",
     "output_type": "stream",
     "text": [
      "https://firstcycling.com/race.php?y=2020&t=2&m=01\n",
      "https://firstcycling.com/race.php?y=2020&t=2&m=02\n",
      "https://firstcycling.com/race.php?y=2020&t=2&m=03\n",
      "https://firstcycling.com/race.php?y=2020&t=2&m=04\n",
      "https://firstcycling.com/race.php?y=2020&t=2&m=05\n",
      "https://firstcycling.com/race.php?y=2020&t=2&m=06\n",
      "https://firstcycling.com/race.php?y=2020&t=2&m=07\n",
      "https://firstcycling.com/race.php?y=2020&t=2&m=08\n",
      "https://firstcycling.com/race.php?y=2020&t=2&m=09\n",
      "https://firstcycling.com/race.php?y=2020&t=2&m=10\n",
      "https://firstcycling.com/race.php?y=2020&t=2&m=11\n",
      "https://firstcycling.com/race.php?y=2020&t=2&m=12\n"
     ]
    }
   ],
   "source": []
  },
  {
   "cell_type": "code",
   "execution_count": null,
   "metadata": {},
   "outputs": [],
   "source": []
  }
 ],
 "metadata": {
  "kernelspec": {
   "name": "python3",
   "display_name": "Python 3.9.2 64-bit",
   "metadata": {
    "interpreter": {
     "hash": "aee8b7b246df8f9039afb4144a1f6fd8d2ca17a180786b69acc140d282b71a49"
    }
   }
  },
  "language_info": {
   "codemirror_mode": {
    "name": "ipython",
    "version": 3
   },
   "file_extension": ".py",
   "mimetype": "text/x-python",
   "name": "python",
   "nbconvert_exporter": "python",
   "pygments_lexer": "ipython3",
   "version": "3.9.2"
  }
 },
 "nbformat": 4,
 "nbformat_minor": 4
}
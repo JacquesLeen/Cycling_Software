{
 "cells": [
  {
   "cell_type": "code",
   "execution_count": 108,
   "metadata": {},
   "outputs": [],
   "source": [
    "import requests\n",
    "import pandas as pd\n",
    "from bs4 import BeautifulSoup\n",
    "import datetime"
   ]
  },
  {
   "cell_type": "code",
   "execution_count": 116,
   "metadata": {},
   "outputs": [],
   "source": [
    "year = 2019\n",
    "cal = 2 # 1 for WT, 2 for UCI, etc.\n",
    "results_dict = {}\n",
    "stages_dict = {}\n",
    "\n",
    "url = 'https://firstcycling.com/race.php?y='+str(year)+'&t='+str(cal)\n",
    "r = requests.get(url)\n",
    "soup = BeautifulSoup(r.text,'html.parser')\n",
    "\n",
    "if year == datetime.datetime.today().year:\n",
    "    tab = soup.find_all('table', class_='sortTabell tablesorter')[1]\n",
    "else:\n",
    "    tab = soup.find_all('table', class_='sortTabell tablesorter')[0]\n",
    "\n",
    "refs = [i['href'] for i in tab.find_all('a', href=True)]\n",
    "races_raw = [x for x in refs if 'race' in x]\n",
    "races = [z for z in races_raw if 'k' not in z]\n",
    "urls = ['https://firstcycling.com/'+y for y in races]\n",
    "for race in urls:\n",
    "    r_race = requests.get(race)\n",
    "    soup_race = BeautifulSoup(r_race.text,'html.parser')\n",
    "    race_name = soup_race.find('h1').text\n",
    "    rows = soup_race.find_all('tbody')[0].find_all('tr')\n",
    "    result = []\n",
    "    for tr in rows:\n",
    "        td = tr.find_all('td')\n",
    "        row = [tr.text.strip() for tr in td if tr.text.strip()]\n",
    "        if row:\n",
    "            result.append(row)\n",
    "            \n",
    "    stage_soup = BeautifulSoup(requests.get(race+'&k=2').text,'html.parser') \n",
    "    try:\n",
    "        if stage_soup.find('h1', class_='delinfo').text == 'Stages':\n",
    "            stg_ref = [i['href'] for i in stage_soup.find_all('table', class_=\"tablesorter\")[1].find_all('a')]\n",
    "            stages = [x for x in stg_ref if 'race' in x]\n",
    "            stages_url = ['https://firstcycling.com/'+y for y in stages]\n",
    "            for stage in stages_url:\n",
    "                r_stage = requests.get(stage)\n",
    "                soup_stage = BeautifulSoup(r_stage.text,'html.parser')\n",
    "                for i in soup_stage.find_all('select')[1].find_all('option'):\n",
    "                    if i.has_attr('selected'):\n",
    "                        stage_name = race_name+' stage '+i.text\n",
    "                rows_stage = soup_stage.find_all('tbody')[0].find_all('tr')\n",
    "                result_stage = []\n",
    "                for tr in rows_stage:\n",
    "                    td = tr.find_all('td')\n",
    "                    row = [tr.text.strip() for tr in td if tr.text.strip()]\n",
    "                    if row:\n",
    "                        result_stage.append(row)\n",
    "                stages_dict[stage_name] = pd.DataFrame(result_stage,\n",
    "                                                       columns=['Position', 'Rider', 'Born', 'Team', 'Total time', 'FC points'])\n",
    "    except:\n",
    "        continue\n",
    "            \n",
    "            \n",
    "    try:        \n",
    "        results_dict[race_name] = pd.DataFrame(result, \n",
    "                                               columns=['Position', 'Rider', 'Born', 'Team', 'Total time', 'FC points'])\n",
    "    except ValueError:\n",
    "        continue"
   ]
  }
 ],
 "metadata": {
  "kernelspec": {
   "display_name": "Python 3",
   "language": "python",
   "name": "python3"
  },
  "language_info": {
   "codemirror_mode": {
    "name": "ipython",
    "version": 3
   },
   "file_extension": ".py",
   "mimetype": "text/x-python",
   "name": "python",
   "nbconvert_exporter": "python",
   "pygments_lexer": "ipython3",
   "version": "3.7.6"
  }
 },
 "nbformat": 4,
 "nbformat_minor": 4
}

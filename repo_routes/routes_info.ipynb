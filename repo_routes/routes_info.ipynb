{
 "cells": [
  {
   "cell_type": "code",
   "execution_count": 1,
   "metadata": {},
   "outputs": [],
   "source": [
    "import requests\n",
    "from bs4 import BeautifulSoup\n",
    "import gpxpy"
   ]
  },
  {
   "cell_type": "code",
   "execution_count": 2,
   "metadata": {},
   "outputs": [],
   "source": [
    "def get_gpx_track(track_number=[]):\n",
    "    \"\"\"Send request to la flamme rouge website to a specific gpx track\n",
    "    \n",
    "    Parameters\n",
    "    ------------\n",
    "    track_number: list of track numbers to parse (int)\n",
    "        \n",
    "    Returns\n",
    "    ------------\n",
    "    The parsed URLs as a list\n",
    "    \"\"\"\n",
    "    soup = []\n",
    "    for track in track_number:\n",
    "        url = 'http://la-flamme-rouge.eu/maps/viewtrack/gpx/'+str(track)\n",
    "        headers={'User-Agent':'Mozilla/5'}\n",
    "        r = requests.get(url, allow_redirects=True,headers=headers)\n",
    "        soup.append(BeautifulSoup(r.text,'html.parser'))\n",
    "    return soup\n",
    "\n",
    "def get_elevation(track_html):\n",
    "    \"\"\"Extract stage name and elevation information from the text of the parsed URLs\n",
    "    \n",
    "    Parameters\n",
    "    ------------\n",
    "    track_html: list of parsed URLs\n",
    "    \n",
    "    Returns\n",
    "    ------------\n",
    "    A dictionary where the key is the stage name and the value is a list [positive_elevation_gain, max_elevation]\n",
    "    \"\"\"\n",
    "    # get elevation from html\n",
    "    elev_stage = {}\n",
    "    for track in track_html:\n",
    "        elev = [int(elev.text) for elev in track.find_all('ele')]\n",
    "        name = track.find('name').text\n",
    "        elev_change = sum([elev[i+1]-elev[i] for i in range(len(elev)-1) if elev[i+1]>elev[i]])\n",
    "        max_elev = max(elev)\n",
    "        elev_stage[name] = [elev_change, max_elev]\n",
    "    return elev_stage"
   ]
  },
  {
   "cell_type": "code",
   "execution_count": 3,
   "metadata": {
    "tags": []
   },
   "outputs": [
    {
     "output_type": "stream",
     "name": "stdout",
     "text": [
      "CPU times: user 4.34 s, sys: 176 ms, total: 4.52 s\nWall time: 9.69 s\n"
     ]
    }
   ],
   "source": [
    "%%time\n",
    "track_html = get_gpx_track(track_number=[34572,386318,375307])"
   ]
  },
  {
   "cell_type": "code",
   "execution_count": 4,
   "metadata": {},
   "outputs": [],
   "source": [
    "elev_change= get_elevation(track_html)"
   ]
  },
  {
   "cell_type": "code",
   "execution_count": 5,
   "metadata": {},
   "outputs": [
    {
     "output_type": "stream",
     "name": "stdout",
     "text": [
      "{'Lucca > Genova': [2107, 619], 'BinckBank Tour 2020 stage 3': [118, 116], 'Binckbanck Tour 2020 Stage 5': [2018, 159]}\n"
     ]
    }
   ],
   "source": [
    "print(elev_change)"
   ]
  },
  {
   "cell_type": "code",
   "execution_count": 10,
   "metadata": {},
   "outputs": [],
   "source": [
    "def get_gpx_file(track_number=[]):\n",
    "    \"\"\"Send request to la flamme rouge website to a specific gpx track\n",
    "    saves the gpx file into \"/gpx/__track_number__.gpx\n",
    "    Parameters\n",
    "    ------------\n",
    "    track_number: list of track numbers to parse (int)\n",
    "        \n",
    "    Returns\n",
    "    ------------\n",
    "    void\n",
    "    \"\"\"\n",
    "    for track in track_number:\n",
    "        url = 'http://la-flamme-rouge.eu/maps/viewtrack/gpx/'+str(track)\n",
    "        headers={'User-Agent':'Mozilla/5'}\n",
    "        r = requests.get(url, allow_redirects=True,headers=headers)\n",
    "        open('gpx/'+str(track)+'.gpx', 'wb').write(r.content)\n",
    "\n",
    "\n",
    "def get_data_from_gpx(track_number=[]):\n",
    "    \"\"\"Extract stage name elevation, max elevation and distance from the text of the files\n",
    "    \n",
    "    Parameters\n",
    "    ------------\n",
    "    track_number: number of gpx file\n",
    "    \n",
    "    Returns\n",
    "    ------------\n",
    "    A dictionary where the key is the stage name and the value is a list [positive_elevation_gain, max_elevation, distance]\n",
    "    \"\"\"\n",
    "    data_race={}\n",
    "    for track in track_number:\n",
    "        file_name = 'gpx/'+str(track)+'.gpx'\n",
    "        gpx_file= open(file_name, 'r')\n",
    "        gpx = gpxpy.parse(gpx_file)\n",
    "        name = gpx.tracks[0].name\n",
    "        elev = [point.elevation for point in gpx.tracks[0].segments[0].points]\n",
    "        elev_change = sum([ elev[i+1] - elev[i] for i in range(len(elev)-1) if elev[i+1] > elev[i] ])\n",
    "        max_elev = max(elev)\n",
    "        distance = round(gpx.length_2d()/1000,2)\n",
    "        data_race[name] = [elev_change, max_elev, distance]\n",
    "\n",
    "    return data_race"
   ]
  },
  {
   "cell_type": "code",
   "execution_count": 11,
   "metadata": {},
   "outputs": [
    {
     "output_type": "stream",
     "name": "stdout",
     "text": [
      "CPU times: user 153 ms, sys: 27.3 ms, total: 180 ms\nWall time: 5.25 s\n"
     ]
    }
   ],
   "source": [
    "%%time\n",
    "get_gpx_file(track_number=[34572,386318,375307])"
   ]
  },
  {
   "cell_type": "code",
   "execution_count": 12,
   "metadata": {},
   "outputs": [
    {
     "output_type": "execute_result",
     "data": {
      "text/plain": [
       "{'Lucca > Genova': [2107.0, 619.0, 181.66],\n",
       " 'BinckBank Tour 2020 stage 3': [118.0, 116.0, 8.12],\n",
       " 'Binckbanck Tour 2020 Stage 5': [2018.0, 159.0, 187.64]}"
      ]
     },
     "metadata": {},
     "execution_count": 12
    }
   ],
   "source": [
    "get_data_from_gpx(track_number=[34572,386318,375307])"
   ]
  },
  {
   "cell_type": "code",
   "execution_count": null,
   "metadata": {},
   "outputs": [],
   "source": []
  }
 ],
 "metadata": {
  "kernelspec": {
   "name": "python3",
   "display_name": "Python 3.7.0 64-bit",
   "metadata": {
    "interpreter": {
     "hash": "aee8b7b246df8f9039afb4144a1f6fd8d2ca17a180786b69acc140d282b71a49"
    }
   }
  },
  "language_info": {
   "codemirror_mode": {
    "name": "ipython",
    "version": 3
   },
   "file_extension": ".py",
   "mimetype": "text/x-python",
   "name": "python",
   "nbconvert_exporter": "python",
   "pygments_lexer": "ipython3",
   "version": "3.7.0-final"
  }
 },
 "nbformat": 4,
 "nbformat_minor": 4
}
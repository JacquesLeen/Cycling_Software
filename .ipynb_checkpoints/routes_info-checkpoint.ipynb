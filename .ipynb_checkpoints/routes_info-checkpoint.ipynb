{
 "cells": [
  {
   "cell_type": "code",
   "execution_count": 13,
   "metadata": {},
   "outputs": [],
   "source": [
    "import requests\n",
    "from bs4 import BeautifulSoup"
   ]
  },
  {
   "cell_type": "code",
   "execution_count": 36,
   "metadata": {},
   "outputs": [],
   "source": [
    "def get_gpx_track(track_number=[]):\n",
    "    \"\"\"Send request to la flamme rouge website to a specific gpx track\n",
    "    \n",
    "    Parameters\n",
    "    ------------\n",
    "    track_number: list of track numbers to parse (int)\n",
    "        \n",
    "    Returns\n",
    "    ------------\n",
    "    The parsed URLs as a list\n",
    "    \"\"\"\n",
    "    soup = []\n",
    "    for track in track_number:\n",
    "        url = 'http://la-flamme-rouge.eu/maps/viewtrack/gpx/'+str(track)\n",
    "        headers={'User-Agent':'Mozilla/5'}\n",
    "        r = requests.get(url, allow_redirects=True,headers=headers)\n",
    "        soup.append(BeautifulSoup(r.text,'html.parser'))\n",
    "    return soup\n",
    "\n",
    "def get_elevation(track_html):\n",
    "    \"\"\"Extract stage name and elevation information from the text of the parsed URLs\n",
    "    \n",
    "    Parameters\n",
    "    ------------\n",
    "    track_html: list of parsed URLs\n",
    "    \n",
    "    Returs\n",
    "    ------------\n",
    "    A dictionary where the key is the stage name and the value is the positive elevation gain\n",
    "    \"\"\"\n",
    "    # get elevation from html\n",
    "    elev_stage = {}\n",
    "    for track in track_html:\n",
    "        elev = [int(elev.text) for elev in track.find_all('ele')]\n",
    "        name = track.find('name').text\n",
    "        elev_change = sum([elev[i+1]-elev[i] for i in range(len(elev)-1) if elev[i+1]>elev[i]])\n",
    "        elev_stage[name] = elev_change\n",
    "    return elev_stage"
   ]
  },
  {
   "cell_type": "code",
   "execution_count": 37,
   "metadata": {},
   "outputs": [],
   "source": [
    "track_html = get_gpx_track(track_number=[34572,386318,375307])"
   ]
  },
  {
   "cell_type": "code",
   "execution_count": 38,
   "metadata": {},
   "outputs": [],
   "source": [
    "elev_change= get_elevation(track_html)"
   ]
  },
  {
   "cell_type": "code",
   "execution_count": 39,
   "metadata": {},
   "outputs": [
    {
     "name": "stdout",
     "output_type": "stream",
     "text": [
      "{'Lucca > Genova': 2107, 'BinckBank Tour 2020 stage 3': 118, 'Binckbanck Tour 2020 Stage 5': 2018}\n"
     ]
    }
   ],
   "source": [
    "print(elev_change)"
   ]
  }
 ],
 "metadata": {
  "kernelspec": {
   "display_name": "Python 3",
   "language": "python",
   "name": "python3"
  },
  "language_info": {
   "codemirror_mode": {
    "name": "ipython",
    "version": 3
   },
   "file_extension": ".py",
   "mimetype": "text/x-python",
   "name": "python",
   "nbconvert_exporter": "python",
   "pygments_lexer": "ipython3",
   "version": "3.7.6"
  }
 },
 "nbformat": 4,
 "nbformat_minor": 4
}

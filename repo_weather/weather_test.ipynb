{
 "metadata": {
  "language_info": {
   "codemirror_mode": {
    "name": "ipython",
    "version": 3
   },
   "file_extension": ".py",
   "mimetype": "text/x-python",
   "name": "python",
   "nbconvert_exporter": "python",
   "pygments_lexer": "ipython3",
   "version": "3.8.3-final"
  },
  "orig_nbformat": 2,
  "kernelspec": {
   "name": "python3",
   "display_name": "Python 3.8.3 64-bit ('base': conda)",
   "metadata": {
    "interpreter": {
     "hash": "dca0ade3e726a953b501b15e8e990130d2b7799f14cfd9f4271676035ebe5511"
    }
   }
  }
 },
 "nbformat": 4,
 "nbformat_minor": 2,
 "cells": [
  {
   "cell_type": "code",
   "execution_count": 1,
   "metadata": {},
   "outputs": [
    {
     "output_type": "stream",
     "name": "stdout",
     "text": [
      "Collecting meteostat==0.3.0\n",
      "  Downloading meteostat-0.3.0-py3-none-any.whl (12 kB)\n",
      "Requirement already satisfied: pyarrow in /opt/anaconda3/lib/python3.8/site-packages (from meteostat==0.3.0) (3.0.0)\n",
      "Requirement already satisfied: pandas in /opt/anaconda3/lib/python3.8/site-packages (from meteostat==0.3.0) (1.0.5)\n",
      "Requirement already satisfied: numpy>=1.16.6 in /opt/anaconda3/lib/python3.8/site-packages (from pyarrow->meteostat==0.3.0) (1.18.5)\n",
      "Requirement already satisfied: pytz>=2017.2 in /opt/anaconda3/lib/python3.8/site-packages (from pandas->meteostat==0.3.0) (2020.1)\n",
      "Requirement already satisfied: python-dateutil>=2.6.1 in /opt/anaconda3/lib/python3.8/site-packages (from pandas->meteostat==0.3.0) (2.8.1)\n",
      "Requirement already satisfied: six>=1.5 in /opt/anaconda3/lib/python3.8/site-packages (from python-dateutil>=2.6.1->pandas->meteostat==0.3.0) (1.15.0)\n",
      "Installing collected packages: meteostat\n",
      "Successfully installed meteostat-0.3.0\n"
     ]
    }
   ],
   "source": [
    "!pip install meteostat==0.3.0"
   ]
  },
  {
   "cell_type": "code",
   "execution_count": 3,
   "metadata": {},
   "outputs": [],
   "source": [
    "import numpy as np \n",
    "import pandas as pd \n",
    "import matplotlib.pyplot as plt \n",
    "from datetime import datetime\n",
    "from meteostat import Stations, Daily, Hourly"
   ]
  },
  {
   "cell_type": "code",
   "execution_count": 21,
   "metadata": {},
   "outputs": [],
   "source": [
    "\"\"\"\n",
    "for the function to work we need to pass data in the form of longitude and latitude, and a datetime\n",
    "the idea would be then to extract the latitude and longitude (in that order from the gpx file) and then\n",
    "feed them with the desired day -> extract the data as an output\n",
    "\"\"\"\n",
    "\n",
    "stations = Stations(lat=50.7333, lon=3.6)\n",
    "station = stations.fetch(1)\n",
    "\n",
    "data = Daily(station, start=datetime(2018,1,1), end=datetime(2018,1,1))\n",
    "data= data.fetch()"
   ]
  },
  {
   "cell_type": "code",
   "execution_count": 22,
   "metadata": {},
   "outputs": [
    {
     "output_type": "stream",
     "name": "stdout",
     "text": [
      "            tavg  tmin  tmax  prcp  snow   wdir  wspd  wpgt    pres  tsun\ntime                                                                     \n2018-01-01   6.1   4.8   8.3   NaN   NaN  231.3  19.2   NaN  1000.4   NaN\n"
     ]
    }
   ],
   "source": [
    "print(data)"
   ]
  },
  {
   "cell_type": "code",
   "execution_count": 29,
   "metadata": {},
   "outputs": [],
   "source": [
    "from pyowm.owm import OWM"
   ]
  },
  {
   "cell_type": "code",
   "execution_count": 30,
   "metadata": {},
   "outputs": [],
   "source": []
  },
  {
   "cell_type": "code",
   "execution_count": 38,
   "metadata": {},
   "outputs": [
    {
     "output_type": "stream",
     "name": "stdout",
     "text": [
      "         id               name country  ... daily_start  daily_end     distance\n6909  71042          Burns Bog      CA  ...  2011-01-25 2021-02-20  2277.648930\n7056  71201          Vancouver      CA  ...  1925-11-18 2021-02-20  5596.284462\n7638  71892  Vancouver Airport      CA  ...  1957-01-06 2021-02-20  8146.569548\n\n[3 rows x 15 columns]\n"
     ]
    }
   ],
   "source": [
    "# Import Meteostat library\n",
    "from meteostat import Stations\n",
    "\n",
    "# Get nearby weather stations\n",
    "stations = Stations()\n",
    "stations = stations._nearby(49.2497, -123.1193)\n",
    "station = stations.fetch(3)\n",
    "\n",
    "# Print DataFrame\n",
    "print(station)"
   ]
  },
  {
   "cell_type": "code",
   "execution_count": 34,
   "metadata": {},
   "outputs": [
    {
     "output_type": "stream",
     "name": "stdout",
     "text": [
      "Requirement already up-to-date: meteostat in /opt/anaconda3/lib/python3.8/site-packages (1.1.1)\n",
      "Requirement already satisfied, skipping upgrade: pytz in /opt/anaconda3/lib/python3.8/site-packages (from meteostat) (2020.1)\n",
      "Requirement already satisfied, skipping upgrade: pandas>=1.1 in /opt/anaconda3/lib/python3.8/site-packages (from meteostat) (1.2.3)\n",
      "Requirement already satisfied, skipping upgrade: numpy in /opt/anaconda3/lib/python3.8/site-packages (from meteostat) (1.18.5)\n",
      "Requirement already satisfied, skipping upgrade: python-dateutil>=2.7.3 in /opt/anaconda3/lib/python3.8/site-packages (from pandas>=1.1->meteostat) (2.8.1)\n",
      "Requirement already satisfied, skipping upgrade: six>=1.5 in /opt/anaconda3/lib/python3.8/site-packages (from python-dateutil>=2.7.3->pandas>=1.1->meteostat) (1.15.0)\n"
     ]
    }
   ],
   "source": [
    "!pip install meteostat -U"
   ]
  },
  {
   "cell_type": "code",
   "execution_count": null,
   "metadata": {},
   "outputs": [],
   "source": []
  }
 ]
}